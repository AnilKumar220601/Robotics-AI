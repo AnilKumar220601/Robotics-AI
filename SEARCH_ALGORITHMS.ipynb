{
  "nbformat": 4,
  "nbformat_minor": 0,
  "metadata": {
    "colab": {
      "provenance": []
    },
    "kernelspec": {
      "name": "python3",
      "display_name": "Python 3"
    },
    "language_info": {
      "name": "python"
    }
  },
  "cells": [
    {
      "cell_type": "markdown",
      "source": [
        "### **BREADTH FIRST SEARCH (BFS)**"
      ],
      "metadata": {
        "id": "6Nd1WoJO2lDX"
      }
    },
    {
      "cell_type": "code",
      "execution_count": 2,
      "metadata": {
        "id": "rTnqdkgHtsk8"
      },
      "outputs": [],
      "source": [
        "my_adj={\n",
        "    'sam':['Aaron','Binny'],\n",
        "    'Aaron':['sam','Christine','Danny'],\n",
        "    'Christine':['Aaron'],\n",
        "    'Danny':['Aaron'],\n",
        "    'Binny':['sam','Elvin','Flin'],\n",
        "    'Elvin':['Binny','Gini'],\n",
        "    'Flin':['Binny'],\n",
        "    'Gini':['Elvin']\n",
        "}"
      ]
    },
    {
      "cell_type": "code",
      "source": [],
      "metadata": {
        "id": "hR6lzxFztbZx"
      },
      "execution_count": null,
      "outputs": []
    },
    {
      "cell_type": "code",
      "source": [
        "from collections import deque"
      ],
      "metadata": {
        "id": "rZSxp5nEwLHh"
      },
      "execution_count": 3,
      "outputs": []
    },
    {
      "cell_type": "code",
      "source": [
        "def bfs(my_adj,start,goal):\n",
        "    visited = []\n",
        "    queue = deque([start])\n",
        "    while queue:\n",
        "      node = queue.popleft()\n",
        "      if node not in visited :\n",
        "        visited.append(node)\n",
        "        print(\"i have visited:\",node)\n",
        "        neighbours = my_adj[node]\n",
        "        if node == goal:\n",
        "          return(\"I have visited and my path is:\",visited)\n",
        "        for neighbour in neighbours:\n",
        "          queue.append(neighbour)\n"
      ],
      "metadata": {
        "id": "vU0YGKDywbGQ"
      },
      "execution_count": 4,
      "outputs": []
    },
    {
      "cell_type": "code",
      "source": [
        "bfs(my_adj,'sam','Gini')"
      ],
      "metadata": {
        "colab": {
          "base_uri": "https://localhost:8080/"
        },
        "id": "Ko7XlzJrzwI0",
        "outputId": "714b4134-4368-40a4-a8c0-ba110324cd65"
      },
      "execution_count": 5,
      "outputs": [
        {
          "output_type": "stream",
          "name": "stdout",
          "text": [
            "i have visited: sam\n",
            "i have visited: Aaron\n",
            "i have visited: Binny\n",
            "i have visited: Christine\n",
            "i have visited: Danny\n",
            "i have visited: Elvin\n",
            "i have visited: Flin\n",
            "i have visited: Gini\n"
          ]
        },
        {
          "output_type": "execute_result",
          "data": {
            "text/plain": [
              "('I have visited and my path is:',\n",
              " ['sam', 'Aaron', 'Binny', 'Christine', 'Danny', 'Elvin', 'Flin', 'Gini'])"
            ]
          },
          "metadata": {},
          "execution_count": 5
        }
      ]
    },
    {
      "cell_type": "markdown",
      "source": [
        "### **DEPTH FIRST SEARCH (DFS)**"
      ],
      "metadata": {
        "id": "mXbb5LnI2vOV"
      }
    },
    {
      "cell_type": "markdown",
      "source": [
        "### **Importing Libraries**"
      ],
      "metadata": {
        "id": "08em4zlN3zcv"
      }
    },
    {
      "cell_type": "code",
      "source": [
        "import networkx as nx\n",
        "import matplotlib.pyplot as plt\n",
        "%matplotlib inline"
      ],
      "metadata": {
        "id": "ags6re1g317t"
      },
      "execution_count": 6,
      "outputs": []
    },
    {
      "cell_type": "code",
      "source": [
        "def dist(a,b):\n",
        "  (x1,y1) =a \n",
        "  (x2,y2) =b\n",
        "  return ((x1-x2)**2 + (y1-y2)**2)**0.5"
      ],
      "metadata": {
        "id": "f9M4AeMB4Hjr"
      },
      "execution_count": 7,
      "outputs": []
    },
    {
      "cell_type": "markdown",
      "source": [
        "### **Defining GRid Graph**"
      ],
      "metadata": {
        "id": "HiIthVVA5Z1M"
      }
    },
    {
      "cell_type": "code",
      "source": [
        "G= nx.grid_graph([3,3])\n",
        "nx.set_edge_attributes(G,{e:e[1][0]*2 for e in G.edges()},\"cost\")"
      ],
      "metadata": {
        "id": "qj18OK9t4lyd"
      },
      "execution_count": 8,
      "outputs": []
    },
    {
      "cell_type": "markdown",
      "source": [
        "### **Visualizing Grid Graph**"
      ],
      "metadata": {
        "id": "FbxV_6UQ5dFA"
      }
    },
    {
      "cell_type": "code",
      "source": [
        "pos = nx.spring_layout(G)\n",
        "nx.draw(G, pos,with_labels=True)\n",
        "edge_labels =nx.get_edge_attributes(G,\"cost\")\n",
        "nx.draw_networkx_edge_labels(G,pos,edge_labels=edge_labels)\n",
        "plt.show()"
      ],
      "metadata": {
        "id": "B3ZhGKFO5fu7",
        "colab": {
          "base_uri": "https://localhost:8080/",
          "height": 319
        },
        "outputId": "22988151-c990-4362-d542-b9adcb86b979"
      },
      "execution_count": 9,
      "outputs": [
        {
          "output_type": "display_data",
          "data": {
            "text/plain": [
              "<Figure size 432x288 with 1 Axes>"
            ],
            "image/png": "[encoded data removed]"
          },
          "metadata": {}
        }
      ]
    },
    {
      "cell_type": "markdown",
      "source": [
        "### **A Star ALGORITHM**"
      ],
      "metadata": {
        "id": "UVoT-0LX_0KT"
      }
    },
    {
      "cell_type": "code",
      "source": [
        "path = nx.astar_path(G,(0,0),(2,2),heuristic=dist ,weight='cost')"
      ],
      "metadata": {
        "id": "Z25VKuBe_j_J"
      },
      "execution_count": 10,
      "outputs": []
    },
    {
      "cell_type": "markdown",
      "source": [
        "### **Finding Length**"
      ],
      "metadata": {
        "id": "Ekj3yUpgAeoC"
      }
    },
    {
      "cell_type": "code",
      "source": [
        "length= nx.astar_path_length(G, (0,0), (2,2), heuristic=dist, weight='cost')"
      ],
      "metadata": {
        "id": "zc17jfA4AgYj"
      },
      "execution_count": 11,
      "outputs": []
    },
    {
      "cell_type": "code",
      "source": [
        "print(\"Path: \",path)\n",
        "print(\"Path Length: \",path)"
      ],
      "metadata": {
        "colab": {
          "base_uri": "https://localhost:8080/"
        },
        "id": "e8bOaqEdAxGx",
        "outputId": "97b5b57f-3f0a-46e6-cae6-d2de2f15265c"
      },
      "execution_count": 12,
      "outputs": [
        {
          "output_type": "stream",
          "name": "stdout",
          "text": [
            "Path:  [(0, 0), (0, 1), (0, 2), (1, 2), (2, 2)]\n",
            "Path Length:  [(0, 0), (0, 1), (0, 2), (1, 2), (2, 2)]\n"
          ]
        }
      ]
    },
    {
      "cell_type": "markdown",
      "source": [
        "### **NumPy**"
      ],
      "metadata": {
        "id": "lXaxQQ3_Ikjm"
      }
    },
    {
      "cell_type": "code",
      "source": [
        "import numpy as np\n",
        "\n",
        "print('1D Array:')\n",
        "arr = np.array([1,2,3,4,5])\n",
        "arr"
      ],
      "metadata": {
        "colab": {
          "base_uri": "https://localhost:8080/"
        },
        "id": "F-Jzqv_PIpJ6",
        "outputId": "27f995f2-4a68-4c8d-9410-c1733c67c5bf"
      },
      "execution_count": 13,
      "outputs": [
        {
          "output_type": "stream",
          "name": "stdout",
          "text": [
            "1D Array:\n"
          ]
        },
        {
          "output_type": "execute_result",
          "data": {
            "text/plain": [
              "array([1, 2, 3, 4, 5])"
            ]
          },
          "metadata": {},
          "execution_count": 13
        }
      ]
    },
    {
      "cell_type": "code",
      "source": [
        "print('2D Array:')\n",
        "arr = np.array([[1, 2, 3], [4, 5, 6]])\n",
        "arr"
      ],
      "metadata": {
        "colab": {
          "base_uri": "https://localhost:8080/"
        },
        "id": "amd_jtubI2rq",
        "outputId": "77402222-3efc-4f34-d812-3e612c2bcc0f"
      },
      "execution_count": 14,
      "outputs": [
        {
          "output_type": "stream",
          "name": "stdout",
          "text": [
            "2D Array:\n"
          ]
        },
        {
          "output_type": "execute_result",
          "data": {
            "text/plain": [
              "array([[1, 2, 3],\n",
              "       [4, 5, 6]])"
            ]
          },
          "metadata": {},
          "execution_count": 14
        }
      ]
    },
    {
      "cell_type": "code",
      "source": [
        "print('3D Array:')\n",
        "arr = np.array([[[1, 2, 3], [4, 5, 6],[7,8,9]]])\n",
        "arr"
      ],
      "metadata": {
        "colab": {
          "base_uri": "https://localhost:8080/"
        },
        "id": "L1_pIYWlI8ID",
        "outputId": "e1196f2f-99c2-44a1-a54c-772527b5ee77"
      },
      "execution_count": 15,
      "outputs": [
        {
          "output_type": "stream",
          "name": "stdout",
          "text": [
            "3D Array:\n"
          ]
        },
        {
          "output_type": "execute_result",
          "data": {
            "text/plain": [
              "array([[[1, 2, 3],\n",
              "        [4, 5, 6],\n",
              "        [7, 8, 9]]])"
            ]
          },
          "metadata": {},
          "execution_count": 15
        }
      ]
    },
    {
      "cell_type": "code",
      "source": [
        "print('3D Array - 1D reshape:')\n",
        "arr = np.array([1,2,3,4,5,6,7,8,9,10,11,12])\n",
        "arr\n",
        "narr = arr.reshape(2,3,2)\n",
        "narr"
      ],
      "metadata": {
        "colab": {
          "base_uri": "https://localhost:8080/"
        },
        "id": "p8pkDe9_LMRW",
        "outputId": "c98b0a28-5edc-45c2-b841-ea41def14e62"
      },
      "execution_count": 16,
      "outputs": [
        {
          "output_type": "stream",
          "name": "stdout",
          "text": [
            "3D Array - 1D reshape:\n"
          ]
        },
        {
          "output_type": "execute_result",
          "data": {
            "text/plain": [
              "array([[[ 1,  2],\n",
              "        [ 3,  4],\n",
              "        [ 5,  6]],\n",
              "\n",
              "       [[ 7,  8],\n",
              "        [ 9, 10],\n",
              "        [11, 12]]])"
            ]
          },
          "metadata": {},
          "execution_count": 16
        }
      ]
    },
    {
      "cell_type": "code",
      "source": [
        "print('3D Array - 2D reshape:')\n",
        "arr1 = np.array([[1, 2, 3], [4, 5, 6],[7,8,9]])\n",
        "arr1\n",
        "narr2 = arr1.reshape(3,3)\n",
        "narr2"
      ],
      "metadata": {
        "colab": {
          "base_uri": "https://localhost:8080/"
        },
        "id": "L-8Si9NSMAkL",
        "outputId": "e7574285-2852-48b7-d434-067fcc0f0e9a"
      },
      "execution_count": 17,
      "outputs": [
        {
          "output_type": "stream",
          "name": "stdout",
          "text": [
            "3D Array - 2D reshape:\n"
          ]
        },
        {
          "output_type": "execute_result",
          "data": {
            "text/plain": [
              "array([[1, 2, 3],\n",
              "       [4, 5, 6],\n",
              "       [7, 8, 9]])"
            ]
          },
          "metadata": {},
          "execution_count": 17
        }
      ]
    },
    {
      "cell_type": "code",
      "source": [],
      "metadata": {
        "id": "ZEWxkjUUMP8h"
      },
      "execution_count": 17,
      "outputs": []
    }
  ]
}